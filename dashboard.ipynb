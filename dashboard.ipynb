{
 "cells": [
  {
   "cell_type": "code",
   "id": "initial_id",
   "metadata": {
    "collapsed": true,
    "ExecuteTime": {
     "end_time": "2025-08-22T22:23:52.577822Z",
     "start_time": "2025-08-22T22:23:51.513180Z"
    }
   },
   "source": [
    "import pandas as pd\n",
    "import numpy as np\n",
    "from data import update_game, mark_played, update_model_scores\n",
    "from model.model import update_models\n",
    "from model.core import load_Xy, richard_curve"
   ],
   "outputs": [],
   "execution_count": 1
  },
  {
   "cell_type": "code",
   "source": [
    "update_game(\n",
    "    metacritic_url='https://www.metacritic.com/game/lies-of-p-overture/',\n",
    "    title=\"Lies of P: Overture\",\n",
    "    #title=None,\n",
    "    classic=False,\n",
    "    soulslike=True,\n",
    ")"
   ],
   "metadata": {
    "collapsed": false,
    "ExecuteTime": {
     "end_time": "2025-08-14T23:28:44.558506Z",
     "start_time": "2025-08-14T23:28:23.765098Z"
    }
   },
   "id": "2c7728285cab63d1",
   "outputs": [
    {
     "name": "stdout",
     "output_type": "stream",
     "text": [
      "https://www.metacritic.com/game/lies-of-p-overture/ Lies of P: Overture\n",
      "https://www.metacritic.com/game/lies-of-p-overture/ Lies of P: Overture\n"
     ]
    },
    {
     "name": "stderr",
     "output_type": "stream",
     "text": [
      "C:\\Users\\derek\\miniconda3\\envs\\backlog\\Lib\\site-packages\\xgboost\\core.py:158: UserWarning: [16:28:44] WARNING: D:\\bld\\xgboost-split_1738880170463\\work\\src\\common\\error_msg.cc:58: Falling back to prediction using DMatrix due to mismatched devices. This might lead to higher memory usage and slower performance. XGBoost is running on: cuda:0, while the input data is on: cpu.\n",
      "Potential solutions:\n",
      "- Use a data structure that matches the device ordinal in the booster.\n",
      "- Set the device for booster before call to inplace_predict.\n",
      "\n",
      "This warning will only be shown once.\n",
      "\n",
      "  warnings.warn(smsg, UserWarning)\n",
      "C:\\Users\\derek\\miniconda3\\envs\\backlog\\Lib\\site-packages\\sklearn\\utils\\validation.py:2732: UserWarning: X has feature names, but RidgeCV was fitted without feature names\n",
      "  warnings.warn(\n"
     ]
    },
    {
     "data": {
      "text/plain": [
       "Title          Lies of P: Overture\n",
       "glicko                         NaN\n",
       "raw_score              1607.256266\n",
       "model_score                    NaN\n",
       "Name: 592, dtype: object"
      ]
     },
     "execution_count": 2,
     "metadata": {},
     "output_type": "execute_result"
    }
   ],
   "execution_count": 2
  },
  {
   "metadata": {
    "ExecuteTime": {
     "end_time": "2025-08-19T01:05:24.900158Z",
     "start_time": "2025-08-19T01:05:24.862721Z"
    }
   },
   "cell_type": "code",
   "source": "mark_played(title='The Lord Of The Rings The Two Towers')",
   "id": "59049b52d9dfe419",
   "outputs": [],
   "execution_count": 4
  },
  {
   "metadata": {
    "ExecuteTime": {
     "end_time": "2025-08-22T22:23:57.562999Z",
     "start_time": "2025-08-22T22:23:55.788275Z"
    }
   },
   "cell_type": "code",
   "source": [
    "#update_models()\n",
    "update_model_scores()"
   ],
   "id": "97dc4b87ad2b95ad",
   "outputs": [
    {
     "name": "stderr",
     "output_type": "stream",
     "text": [
      "C:\\Users\\derek\\DataspellProjects\\derks-backlog\\.venv\\Lib\\site-packages\\xgboost\\core.py:729: UserWarning: [15:23:56] WARNING: C:\\actions-runner\\_work\\xgboost\\xgboost\\src\\common\\error_msg.cc:58: Falling back to prediction using DMatrix due to mismatched devices. This might lead to higher memory usage and slower performance. XGBoost is running on: cuda:0, while the input data is on: cpu.\n",
      "Potential solutions:\n",
      "- Use a data structure that matches the device ordinal in the booster.\n",
      "- Set the device for booster before call to inplace_predict.\n",
      "\n",
      "This warning will only be shown once.\n",
      "\n",
      "  return func(**kwargs)\n",
      "C:\\Users\\derek\\DataspellProjects\\derks-backlog\\.venv\\Lib\\site-packages\\sklearn\\utils\\validation.py:2742: UserWarning: X has feature names, but RidgeCV was fitted without feature names\n",
      "  warnings.warn(\n",
      "C:\\Users\\derek\\DataspellProjects\\derks-backlog\\sheets.py:42: FutureWarning: The behavior of DataFrame concatenation with empty or all-NA entries is deprecated. In a future version, this will no longer exclude empty or all-NA columns when determining the result dtypes. To retain the old behavior, exclude the relevant entries before the concat operation.\n",
      "  df = pd.concat([\n"
     ]
    },
    {
     "name": "stdout",
     "output_type": "stream",
     "text": [
      "3822 cells updated.\n"
     ]
    },
    {
     "name": "stderr",
     "output_type": "stream",
     "text": [
      "C:\\Users\\derek\\DataspellProjects\\derks-backlog\\sheets.py:42: FutureWarning: The behavior of DataFrame concatenation with empty or all-NA entries is deprecated. In a future version, this will no longer exclude empty or all-NA columns when determining the result dtypes. To retain the old behavior, exclude the relevant entries before the concat operation.\n",
      "  df = pd.concat([\n"
     ]
    },
    {
     "name": "stdout",
     "output_type": "stream",
     "text": [
      "5760 cells updated.\n"
     ]
    }
   ],
   "execution_count": 2
  },
  {
   "metadata": {
    "ExecuteTime": {
     "end_time": "2025-08-22T21:58:29.996104Z",
     "start_time": "2025-08-22T21:58:29.993611Z"
    }
   },
   "cell_type": "code",
   "source": "from sheets import update_values",
   "id": "7eb4e4aa077eeea",
   "outputs": [],
   "execution_count": 3
  },
  {
   "metadata": {
    "ExecuteTime": {
     "end_time": "2025-05-08T00:03:25.349873Z",
     "start_time": "2025-05-08T00:03:25.298913Z"
    }
   },
   "cell_type": "code",
   "source": "pd.Series([richard_curve(n, b=0.0035, v=1, q=100) for n in range(365*10)]).plot()",
   "id": "5249297ce2b718d",
   "outputs": [
    {
     "data": {
      "text/plain": [
       "<Axes: >"
      ]
     },
     "execution_count": 27,
     "metadata": {},
     "output_type": "execute_result"
    },
    {
     "data": {
      "text/plain": [
       "<Figure size 640x480 with 1 Axes>"
      ],
      "image/png": "[encoded data removed]"
     },
     "metadata": {},
     "output_type": "display_data"
    }
   ],
   "execution_count": 27
  },
  {
   "metadata": {
    "ExecuteTime": {
     "end_time": "2025-07-06T06:20:27.844142Z",
     "start_time": "2025-07-06T06:20:27.829903Z"
    }
   },
   "cell_type": "code",
   "source": "df = pd.read_csv('game_log.csv')",
   "id": "941897ea48a269c8",
   "outputs": [],
   "execution_count": 15
  },
  {
   "metadata": {
    "ExecuteTime": {
     "end_time": "2025-07-06T06:20:28.296525Z",
     "start_time": "2025-07-06T06:20:28.290162Z"
    }
   },
   "cell_type": "code",
   "source": "df.loc[pd.to_datetime(df.last_played, format='mixed').dt.year == 2025, ['Title', 'glicko']]",
   "id": "bd7c5752e74c4989",
   "outputs": [
    {
     "data": {
      "text/plain": [
       "                           Title       glicko\n",
       "45          Halo: Combat Evolved  1624.122142\n",
       "199                   Dark Souls  1824.746413\n",
       "258                   Bloodborne  1879.771804\n",
       "330       Dark Souls: Remastered  1824.746413\n",
       "338      Return of the Obra Dinn  1397.881149\n",
       "495                      Balatro  1616.706140\n",
       "512         Metaphor: ReFantazio  1600.242548\n",
       "537                  Doom (1993)  1413.065605\n",
       "557       Yellow Taxi Goes Vroom  1329.028155\n",
       "581  The First Berserker: Khazan  1327.393546\n",
       "584  Clair Obscur: Expedition 33  1771.662373"
      ],
      "text/html": [
       "<div>\n",
       "<style scoped>\n",
       "    .dataframe tbody tr th:only-of-type {\n",
       "        vertical-align: middle;\n",
       "    }\n",
       "\n",
       "    .dataframe tbody tr th {\n",
       "        vertical-align: top;\n",
       "    }\n",
       "\n",
       "    .dataframe thead th {\n",
       "        text-align: right;\n",
       "    }\n",
       "</style>\n",
       "<table border=\"1\" class=\"dataframe\">\n",
       "  <thead>\n",
       "    <tr style=\"text-align: right;\">\n",
       "      <th></th>\n",
       "      <th>Title</th>\n",
       "      <th>glicko</th>\n",
       "    </tr>\n",
       "  </thead>\n",
       "  <tbody>\n",
       "    <tr>\n",
       "      <th>45</th>\n",
       "      <td>Halo: Combat Evolved</td>\n",
       "      <td>1624.122142</td>\n",
       "    </tr>\n",
       "    <tr>\n",
       "      <th>199</th>\n",
       "      <td>Dark Souls</td>\n",
       "      <td>1824.746413</td>\n",
       "    </tr>\n",
       "    <tr>\n",
       "      <th>258</th>\n",
       "      <td>Bloodborne</td>\n",
       "      <td>1879.771804</td>\n",
       "    </tr>\n",
       "    <tr>\n",
       "      <th>330</th>\n",
       "      <td>Dark Souls: Remastered</td>\n",
       "      <td>1824.746413</td>\n",
       "    </tr>\n",
       "    <tr>\n",
       "      <th>338</th>\n",
       "      <td>Return of the Obra Dinn</td>\n",
       "      <td>1397.881149</td>\n",
       "    </tr>\n",
       "    <tr>\n",
       "      <th>495</th>\n",
       "      <td>Balatro</td>\n",
       "      <td>1616.706140</td>\n",
       "    </tr>\n",
       "    <tr>\n",
       "      <th>512</th>\n",
       "      <td>Metaphor: ReFantazio</td>\n",
       "      <td>1600.242548</td>\n",
       "    </tr>\n",
       "    <tr>\n",
       "      <th>537</th>\n",
       "      <td>Doom (1993)</td>\n",
       "      <td>1413.065605</td>\n",
       "    </tr>\n",
       "    <tr>\n",
       "      <th>557</th>\n",
       "      <td>Yellow Taxi Goes Vroom</td>\n",
       "      <td>1329.028155</td>\n",
       "    </tr>\n",
       "    <tr>\n",
       "      <th>581</th>\n",
       "      <td>The First Berserker: Khazan</td>\n",
       "      <td>1327.393546</td>\n",
       "    </tr>\n",
       "    <tr>\n",
       "      <th>584</th>\n",
       "      <td>Clair Obscur: Expedition 33</td>\n",
       "      <td>1771.662373</td>\n",
       "    </tr>\n",
       "  </tbody>\n",
       "</table>\n",
       "</div>"
      ]
     },
     "execution_count": 16,
     "metadata": {},
     "output_type": "execute_result"
    }
   ],
   "execution_count": 16
  },
  {
   "metadata": {},
   "cell_type": "code",
   "outputs": [],
   "execution_count": null,
   "source": "",
   "id": "bf2b79d55f7b4f74"
  }
 ],
 "metadata": {
  "kernelspec": {
   "display_name": "Python 3",
   "language": "python",
   "name": "python3"
  },
  "language_info": {
   "codemirror_mode": {
    "name": "ipython",
    "version": 2
   },
   "file_extension": ".py",
   "mimetype": "text/x-python",
   "name": "python",
   "nbconvert_exporter": "python",
   "pygments_lexer": "ipython2",
   "version": "2.7.6"
  }
 },
 "nbformat": 4,
 "nbformat_minor": 5
}
