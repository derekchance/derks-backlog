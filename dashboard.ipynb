{
 "cells": [
  {
   "cell_type": "code",
   "execution_count": 1,
   "id": "initial_id",
   "metadata": {
    "collapsed": true,
    "ExecuteTime": {
     "end_time": "2025-01-04T05:31:34.839765800Z",
     "start_time": "2025-01-04T05:31:33.372353700Z"
    }
   },
   "outputs": [],
   "source": [
    "from data import update_game\n",
    "from model.model import update_models, update_model_scores"
   ]
  },
  {
   "cell_type": "code",
   "outputs": [
    {
     "name": "stdout",
     "output_type": "stream",
     "text": [
      "Updating models\n",
      "SVR (radial basis)...\n",
      "Ridge...\n",
      "XGB...\n",
      "Stacking Models (like legos)\n",
      "Done.\n"
     ]
    }
   ],
   "source": [
    "#update_models()"
   ],
   "metadata": {
    "collapsed": false,
    "ExecuteTime": {
     "end_time": "2025-01-04T05:21:06.774845600Z",
     "start_time": "2025-01-04T05:17:00.965596800Z"
    }
   },
   "id": "caa15f321587ce13",
   "execution_count": 2
  },
  {
   "cell_type": "code",
   "outputs": [],
   "source": [
    "update_model_scores()"
   ],
   "metadata": {
    "collapsed": false,
    "ExecuteTime": {
     "end_time": "2025-01-04T05:31:36.401267700Z",
     "start_time": "2025-01-04T05:31:36.006888700Z"
    }
   },
   "id": "e7b975cbb3374fef",
   "execution_count": 2
  },
  {
   "cell_type": "code",
   "outputs": [
    {
     "name": "stdout",
     "output_type": "stream",
     "text": [
      "https://www.metacritic.com/game/tactical-breach-wizards/ None\n",
      "https://www.metacritic.com/game/tactical-breach-wizards/ Tactical Breach Wizards\n"
     ]
    },
    {
     "data": {
      "text/plain": "Title          Tactical Breach Wizards\nMy Rating                          NaN\nraw_score                     3.856536\nmodel_score                   3.856536\nName: 559, dtype: object"
     },
     "execution_count": 9,
     "metadata": {},
     "output_type": "execute_result"
    }
   ],
   "source": [
    "test_url = 'https://www.metacritic.com/game/tactical-breach-wizards/'\n",
    "update_game(metacritic_url=test_url, title=None, classic=False)"
   ],
   "metadata": {
    "collapsed": false,
    "ExecuteTime": {
     "end_time": "2025-01-03T09:07:42.384661200Z",
     "start_time": "2025-01-03T09:07:33.276290200Z"
    }
   },
   "id": "2c7728285cab63d1",
   "execution_count": 9
  },
  {
   "cell_type": "code",
   "outputs": [],
   "source": [],
   "metadata": {
    "collapsed": false,
    "ExecuteTime": {
     "end_time": "2025-01-03T09:20:07.267217600Z",
     "start_time": "2025-01-03T09:20:07.016987700Z"
    }
   },
   "id": "56c36d7d9b18a39a",
   "execution_count": 17
  }
 ],
 "metadata": {
  "kernelspec": {
   "display_name": "Python 3",
   "language": "python",
   "name": "python3"
  },
  "language_info": {
   "codemirror_mode": {
    "name": "ipython",
    "version": 2
   },
   "file_extension": ".py",
   "mimetype": "text/x-python",
   "name": "python",
   "nbconvert_exporter": "python",
   "pygments_lexer": "ipython2",
   "version": "2.7.6"
  }
 },
 "nbformat": 4,
 "nbformat_minor": 5
}
